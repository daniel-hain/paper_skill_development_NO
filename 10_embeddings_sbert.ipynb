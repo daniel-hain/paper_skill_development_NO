{
  "cells": [
    {
      "cell_type": "markdown",
      "metadata": {
        "id": "view-in-github",
        "colab_type": "text"
      },
      "source": [
        "<a href=\"https://colab.research.google.com/github/daniel-hain/paper_skill_development_NO/blob/main/10_embeddings_sbert.ipynb\" target=\"_parent\"><img src=\"https://colab.research.google.com/assets/colab-badge.svg\" alt=\"Open In Colab\"/></a>"
      ]
    },
    {
      "cell_type": "markdown",
      "metadata": {
        "id": "pJ8uDjyr4MeG"
      },
      "source": [
        "Installing dependencies needed for this notebook"
      ]
    },
    {
      "cell_type": "code",
      "source": [
        "from google.colab import drive\n",
        "drive.mount('/content/gdrive/', force_remount=True)"
      ],
      "metadata": {
        "id": "fCMEPmhe5a0B",
        "outputId": "3d6e79ee-985f-478c-b90e-fd977b6579e7",
        "colab": {
          "base_uri": "https://localhost:8080/"
        }
      },
      "execution_count": 1,
      "outputs": [
        {
          "output_type": "stream",
          "name": "stdout",
          "text": [
            "Mounted at /content/gdrive/\n"
          ]
        }
      ]
    },
    {
      "cell_type": "code",
      "source": [
        "!pip install autofaiss"
      ],
      "metadata": {
        "id": "4uefXC2QvgDi",
        "outputId": "0aaf3596-e211-48a2-ef03-56063e49db29",
        "colab": {
          "base_uri": "https://localhost:8080/",
          "height": 749
        }
      },
      "execution_count": 33,
      "outputs": [
        {
          "output_type": "stream",
          "name": "stdout",
          "text": [
            "Looking in indexes: https://pypi.org/simple, https://us-python.pkg.dev/colab-wheels/public/simple/\n",
            "Collecting autofaiss\n",
            "  Downloading autofaiss-2.15.5-py3-none-any.whl (69 kB)\n",
            "\u001b[2K     \u001b[90m━━━━━━━━━━━━━━━━━━━━━━━━━━━━━━━━━━━━━━━━\u001b[0m \u001b[32m70.0/70.0 kB\u001b[0m \u001b[31m10.5 MB/s\u001b[0m eta \u001b[36m0:00:00\u001b[0m\n",
            "\u001b[?25hRequirement already satisfied: pandas<2,>=1.1.5 in /usr/local/lib/python3.9/dist-packages (from autofaiss) (1.5.3)\n",
            "Collecting fire<0.5.0,>=0.4.0\n",
            "  Downloading fire-0.4.0.tar.gz (87 kB)\n",
            "\u001b[2K     \u001b[90m━━━━━━━━━━━━━━━━━━━━━━━━━━━━━━━━━━━━━━━━\u001b[0m \u001b[32m87.7/87.7 kB\u001b[0m \u001b[31m9.6 MB/s\u001b[0m eta \u001b[36m0:00:00\u001b[0m\n",
            "\u001b[?25h  Preparing metadata (setup.py) ... \u001b[?25l\u001b[?25hdone\n",
            "Requirement already satisfied: fsspec>=2022.1.0 in /usr/local/lib/python3.9/dist-packages (from autofaiss) (2023.4.0)\n",
            "Collecting faiss-cpu<2,>=1\n",
            "  Downloading faiss_cpu-1.7.3-cp39-cp39-manylinux_2_17_x86_64.manylinux2014_x86_64.whl (17.0 MB)\n",
            "\u001b[2K     \u001b[90m━━━━━━━━━━━━━━━━━━━━━━━━━━━━━━━━━━━━━━━━\u001b[0m \u001b[32m17.0/17.0 MB\u001b[0m \u001b[31m64.4 MB/s\u001b[0m eta \u001b[36m0:00:00\u001b[0m\n",
            "\u001b[?25hCollecting embedding-reader<2,>=1.2.0\n",
            "  Downloading embedding_reader-1.5.0-py3-none-any.whl (18 kB)\n",
            "Requirement already satisfied: numpy<2,>=1.19.5 in /usr/local/lib/python3.9/dist-packages (from autofaiss) (1.22.4)\n",
            "Collecting pyarrow<8,>=6.0.1\n",
            "  Downloading pyarrow-7.0.0-cp39-cp39-manylinux_2_17_x86_64.manylinux2014_x86_64.whl (26.7 MB)\n",
            "\u001b[2K     \u001b[90m━━━━━━━━━━━━━━━━━━━━━━━━━━━━━━━━━━━━━━━━\u001b[0m \u001b[32m26.7/26.7 MB\u001b[0m \u001b[31m21.9 MB/s\u001b[0m eta \u001b[36m0:00:00\u001b[0m\n",
            "\u001b[?25hRequirement already satisfied: tqdm<5,>=4.62.3 in /usr/local/lib/python3.9/dist-packages (from autofaiss) (4.65.0)\n",
            "Requirement already satisfied: six in /usr/local/lib/python3.9/dist-packages (from fire<0.5.0,>=0.4.0->autofaiss) (1.16.0)\n",
            "Requirement already satisfied: termcolor in /usr/local/lib/python3.9/dist-packages (from fire<0.5.0,>=0.4.0->autofaiss) (2.2.0)\n",
            "Requirement already satisfied: python-dateutil>=2.8.1 in /usr/local/lib/python3.9/dist-packages (from pandas<2,>=1.1.5->autofaiss) (2.8.2)\n",
            "Requirement already satisfied: pytz>=2020.1 in /usr/local/lib/python3.9/dist-packages (from pandas<2,>=1.1.5->autofaiss) (2022.7.1)\n",
            "Building wheels for collected packages: fire\n",
            "  Building wheel for fire (setup.py) ... \u001b[?25l\u001b[?25hdone\n",
            "  Created wheel for fire: filename=fire-0.4.0-py2.py3-none-any.whl size=115941 sha256=9d972759611f3549b87a43e073f4cea8b3d26f5002847ba25ed0e2777cfd2939\n",
            "  Stored in directory: /root/.cache/pip/wheels/2a/93/86/8cd17bc6c40fb605c3ac549d0b860ef7e84ee5f67bf01a3287\n",
            "Successfully built fire\n",
            "Installing collected packages: faiss-cpu, pyarrow, fire, embedding-reader, autofaiss\n",
            "  Attempting uninstall: pyarrow\n",
            "    Found existing installation: pyarrow 9.0.0\n",
            "    Uninstalling pyarrow-9.0.0:\n",
            "      Successfully uninstalled pyarrow-9.0.0\n",
            "Successfully installed autofaiss-2.15.5 embedding-reader-1.5.0 faiss-cpu-1.7.3 fire-0.4.0 pyarrow-7.0.0\n"
          ]
        },
        {
          "output_type": "display_data",
          "data": {
            "application/vnd.colab-display-data+json": {
              "pip_warning": {
                "packages": [
                  "pyarrow"
                ]
              }
            }
          },
          "metadata": {}
        }
      ]
    },
    {
      "cell_type": "code",
      "execution_count": 1,
      "metadata": {
        "id": "TqBZ8Acl4MeG"
      },
      "outputs": [],
      "source": [
        "!pip install -qU transformers sentence-transformers"
      ]
    },
    {
      "cell_type": "code",
      "execution_count": 22,
      "metadata": {
        "id": "1lxrOoae4MeH"
      },
      "outputs": [],
      "source": [
        "from transformers import AutoTokenizer, AutoModel\n",
        "from sentence_transformers import SentenceTransformer, util\n",
        "import torch\n",
        "\n",
        "from autofaiss import build_index"
      ]
    },
    {
      "cell_type": "code",
      "source": [
        "import pickle\n",
        "import pandas as pd\n",
        "import numpy as np"
      ],
      "metadata": {
        "id": "v36m_teWvuex"
      },
      "execution_count": 23,
      "outputs": []
    },
    {
      "cell_type": "markdown",
      "metadata": {
        "id": "Ctm18lCx4MeO"
      },
      "source": [
        "---\n",
        "\n",
        "## Using sentence-transformers"
      ]
    },
    {
      "cell_type": "code",
      "execution_count": 6,
      "metadata": {
        "id": "waBNwmGy4MeP"
      },
      "outputs": [],
      "source": [
        "model = SentenceTransformer('NbAiLab/nb-sbert-base')"
      ]
    },
    {
      "cell_type": "markdown",
      "metadata": {
        "id": "Ynmvy87Q4MeP"
      },
      "source": [
        "# Load data"
      ]
    },
    {
      "cell_type": "code",
      "source": [
        "# Read the CSV file\n",
        "df_skills = pd.read_csv(\"/content/gdrive/MyDrive/00_projects/project_2023_skills_NO/text_skills_plain.csv\")\n",
        "df_jobs = pd.read_csv(\"/content/gdrive/MyDrive/00_projects/project_2023_skills_NO/text_job_plain.csv\")"
      ],
      "metadata": {
        "id": "STnIJ1IfAsgc"
      },
      "execution_count": 7,
      "outputs": []
    },
    {
      "cell_type": "markdown",
      "source": [
        "# Embeddings Skills"
      ],
      "metadata": {
        "id": "ggUKxlKkP6in"
      }
    },
    {
      "cell_type": "code",
      "execution_count": 8,
      "metadata": {
        "id": "DUljqG_X4MeP"
      },
      "outputs": [],
      "source": [
        "list_skills = df_skills['text']\n",
        "list_skills = list_skills.tolist()"
      ]
    },
    {
      "cell_type": "code",
      "source": [
        "skills_embeddings = model.encode(list_skills, show_progress_bar=True, convert_to_tensor=True)"
      ],
      "metadata": {
        "id": "msvmy1F1C754",
        "outputId": "92f08e6d-7a09-403e-f9b1-54e908d9e123",
        "colab": {
          "base_uri": "https://localhost:8080/",
          "height": 49,
          "referenced_widgets": [
            "b1c5ed6a18c74464965694bb522356cf",
            "5df96829a079450684718dee2d43ac7c",
            "67738895a91b4e09a7d6df475e1024c3",
            "ac8f3e74782d44d29e56618d58f5e2d8",
            "35fafe30806f474fb73b1f8924494da0",
            "23f0d22b4a5b4fa9b314f83757680a8e",
            "acdc1c17b97a44919c45c7c9814901f0",
            "19f14eeb264143e281241acbda5a1e04",
            "9eccaabcab9048718c89783bb391220a",
            "00132f39beed4b0ab70096d822a4ea0d",
            "42eb84476d9b436c9458816c7b79da5d"
          ]
        }
      },
      "execution_count": 9,
      "outputs": [
        {
          "output_type": "display_data",
          "data": {
            "text/plain": [
              "Batches:   0%|          | 0/435 [00:00<?, ?it/s]"
            ],
            "application/vnd.jupyter.widget-view+json": {
              "version_major": 2,
              "version_minor": 0,
              "model_id": "b1c5ed6a18c74464965694bb522356cf"
            }
          },
          "metadata": {}
        }
      ]
    },
    {
      "cell_type": "code",
      "source": [
        "np.save(\"/content/gdrive/MyDrive/00_projects/project_2023_skills_NO/skill_embeddings.npy\", skills_embeddings.cpu() ) "
      ],
      "metadata": {
        "id": "0UuzKTY44eLi"
      },
      "execution_count": 25,
      "outputs": []
    },
    {
      "cell_type": "code",
      "source": [
        "# Build a KNN index\n",
        "!autofaiss build_index --embeddings=\"/content/gdrive/MyDrive/00_projects/project_2023_skills_NO/\" \\\n",
        "                    --index_path=\"knn.index\" \\\n",
        "                    --index_infos_path=\"infos.json\" \\\n",
        "                    --metric_type={metric_type} \\\n",
        "                    --max_index_query_time_ms=5 \\\n",
        "                    --max_index_memory_usage={max_index_memory_usage}"
      ],
      "metadata": {
        "id": "Wo18cULe3bfP",
        "outputId": "9c83a33e-7df3-4eda-9179-b1d69e0840ed",
        "colab": {
          "base_uri": "https://localhost:8080/"
        }
      },
      "execution_count": 27,
      "outputs": [
        {
          "output_type": "stream",
          "name": "stdout",
          "text": [
            "Traceback (most recent call last):\n",
            "  File \"/usr/local/bin/autofaiss\", line 8, in <module>\n",
            "    sys.exit(main())\n",
            "  File \"/usr/local/lib/python3.9/dist-packages/autofaiss/external/quantize.py\", line 606, in main\n",
            "    fire.Fire(\n",
            "  File \"/usr/local/lib/python3.9/dist-packages/fire/core.py\", line 141, in Fire\n",
            "    component_trace = _Fire(component, args, parsed_flag_args, context, name)\n",
            "  File \"/usr/local/lib/python3.9/dist-packages/fire/core.py\", line 466, in _Fire\n",
            "    component, remaining_args = _CallAndUpdateTrace(\n",
            "  File \"/usr/local/lib/python3.9/dist-packages/fire/core.py\", line 681, in _CallAndUpdateTrace\n",
            "    component = fn(*varargs, **kwargs)\n",
            "  File \"/usr/local/lib/python3.9/dist-packages/autofaiss/external/quantize.py\", line 181, in build_index\n",
            "    max_index_bytes = cast_memory_to_bytes(max_index_memory_usage)\n",
            "  File \"/usr/local/lib/python3.9/dist-packages/autofaiss/utils/cast.py\", line 31, in cast_memory_to_bytes\n",
            "    matching_groups = re.findall(number_match + unit_match, memory_string, re.IGNORECASE)\n",
            "  File \"/usr/lib/python3.9/re.py\", line 241, in findall\n",
            "    return _compile(pattern, flags).findall(string)\n",
            "TypeError: expected string or bytes-like object\n"
          ]
        }
      ]
    },
    {
      "cell_type": "markdown",
      "source": [
        "# Semantic search"
      ],
      "metadata": {
        "id": "oHX4_4aqQAaH"
      }
    },
    {
      "cell_type": "code",
      "execution_count": 28,
      "metadata": {
        "id": "11JdXCk-4MeP"
      },
      "outputs": [],
      "source": [
        "# Function that searches the corpus and prints the results\n",
        "def sem_search(input_text):\n",
        "    input_embedding = model.encode(input_text, convert_to_tensor=True)\n",
        "    hits = util.semantic_search(input_embedding, skills_embeddings)\n",
        "    hits = hits[0]  #Get the hits for the first query\n",
        "\n",
        "    print(\"Input \", input_text)\n",
        "    for hit in hits[0:10]:\n",
        "        print(\"\\t{:.3f}\\t{}\".format(hit['score'], list_skills[hit['corpus_id']]))"
      ]
    },
    {
      "cell_type": "code",
      "source": [
        "test_sentence = 'Teoriene om kunstig intelligens, anvendte prinsipper, arkitekturer og systemer, f.eks. intelligente agenter, multiagentsystemer, ekspertsystemer, regelbaserte systemer, nevrale nettverk, ontologier og kognisjonsteorier.'"
      ],
      "metadata": {
        "id": "0WwFDbghydll"
      },
      "execution_count": 29,
      "outputs": []
    },
    {
      "cell_type": "code",
      "source": [
        "test_sentence = df_jobs.iloc[30,1]\n",
        "test_sentence"
      ],
      "metadata": {
        "id": "hMYHP0VgI9fZ",
        "outputId": "36b0cbc2-5dcd-4fbf-9a1f-a7e286ccef62",
        "colab": {
          "base_uri": "https://localhost:8080/",
          "height": 53
        }
      },
      "execution_count": 18,
      "outputs": [
        {
          "output_type": "execute_result",
          "data": {
            "text/plain": [
              "'dokumentasjon rapportering helsefaglærlinger arbeider enten hjemmetjeneste institusjon to år kvalifikasjoner bestått vg helse sosialfag vg helsefag personlige egenskaper vektlegger vårt personale evne samarbeid'"
            ],
            "application/vnd.google.colaboratory.intrinsic+json": {
              "type": "string"
            }
          },
          "metadata": {},
          "execution_count": 18
        }
      ]
    },
    {
      "cell_type": "code",
      "source": [
        "test_sentence1 = \"Som vår nye data scientist vil du delta i tverrfaglige team som utvikler, implementerer og drifter maskinlæringsmodeller og regelbaserte modeller. \""
      ],
      "metadata": {
        "id": "dtC5H9riI9xN"
      },
      "execution_count": 20,
      "outputs": []
    },
    {
      "cell_type": "code",
      "source": [
        "test_sentence2 = \"Videreutvikle og tilpasse infrastruktur for diagnostiske og behandlingsbiobanker for kvalitetshevning av håndtering, oppbevaring, og tilgjengeliggjøring av pasientmateriale\""
      ],
      "metadata": {
        "id": "MoJ_OmGeKgcU"
      },
      "execution_count": 31,
      "outputs": []
    },
    {
      "cell_type": "code",
      "execution_count": 30,
      "metadata": {
        "id": "PPZmSx_H4MeQ",
        "outputId": "0ba806a7-2b38-4ccb-841c-d415ca0a8c1e",
        "colab": {
          "base_uri": "https://localhost:8080/"
        }
      },
      "outputs": [
        {
          "output_type": "stream",
          "name": "stdout",
          "text": [
            "Input  Som vår nye data scientist vil du delta i tverrfaglige team som utvikler, implementerer og drifter maskinlæringsmodeller og regelbaserte modeller. \n",
            "\t0.725\tDelta i de ulike utviklingsfasene i dataprogrammer for  økonometrisk og statistisk analyse, som forskning, utvikling av nye produkter, utforming av prototyper og vedlikehold.\n",
            "\t0.708\tBruke digitale verktøy og teknologier for å skape kunnskap og for å innovere prosesser og produkter. Delta i kognitiv behandling enkeltvis og samlet for å forstå og løse konseptuelle problemer og problemsituasjoner i digitale miljøer.\n",
            "\t0.707\tUtvikle en programvare som styrer en IKT-enhet og dens samspill med andre applikasjoner.\n",
            "\t0.692\tDe metoder og verktøy som kreves for å utvikle systemprogramvare, spesifikasjoner for systemarkitektur og grensesnitt mellom nettverk, systemmoduler og komponenter.\n",
            "\t0.688\tDen tverrfaglige grenen av ingeniørarbeid som håndterer dynamiske systemer med informasjon om hvordan deres atferd endres ved tilbakemeldinger.\n",
            "\t0.688\tBruke digitale verktøy og teknologier i samarbeidsprosesser og til sambygging og samskaping av ressurser og kunnskap.\n",
            "\t0.686\tDevOps er en metode for utforming av programvaresystemer og programmer rettet mot samarbeid, og mellom programvareutviklere og annen IKT og automatisering.\n",
            "\t0.686\tTeknikker og prinsipper for programvareutvikling, som analyser, algoritmer, koding, testing og sammenstilling av programmeringsparadigmer i Assembly.\n",
            "\t0.679\tTeknikkdisiplin som kombinerer informatikk med elektroteknikk for å utvikle maskinvare og programvare for datamaskiner. Datateknikk omhandler elektronikk, programvaredesign og integrasjon av maskinvare og programvare.\n",
            "\t0.678\tVelge og bruke integrasjonsteknikker og verktøy for å planlegge og implementere integrasjon av maskinvare- og programvaremoduler og komponenter i et system.\n",
            "\n"
          ]
        }
      ],
      "source": [
        "sem_search(test_sentence1)"
      ]
    },
    {
      "cell_type": "code",
      "source": [
        "# Save\n",
        "with open('/content/gdrive/MyDrive/00_projects/project_2023_skills_NO/skill_embeddings.pickle', 'wb') as pkl:\n",
        "    pickle.dump(skills_embeddings, pkl)\n",
        "\n",
        "#with open('skill_embedding.pickle', 'rb') as pkl:\n",
        " #   doc_embedding = pickle.load(pkl)"
      ],
      "metadata": {
        "id": "9UevVpHIN38x"
      },
      "execution_count": 14,
      "outputs": []
    },
    {
      "cell_type": "markdown",
      "source": [
        "# Embedding jobs"
      ],
      "metadata": {
        "id": "-oT6SG6nQPef"
      }
    },
    {
      "cell_type": "code",
      "source": [
        "list_jobs = df_jobs['text']\n",
        "list_jobs = list_jobs.tolist()"
      ],
      "metadata": {
        "id": "-OgFxz2QQV5W"
      },
      "execution_count": 15,
      "outputs": []
    },
    {
      "cell_type": "code",
      "source": [
        "jobs_embeddings = model.encode(list_jobs, show_progress_bar=True, convert_to_tensor=True)"
      ],
      "metadata": {
        "id": "PFKahQ7GQjJ9",
        "outputId": "a3cd0a63-de1c-48a0-b8c4-9ae10569aa20",
        "colab": {
          "base_uri": "https://localhost:8080/",
          "height": 49,
          "referenced_widgets": [
            "ef5b5e83c0434eabb92c2706fe4251cb",
            "e149a5964546425c8aa760a267576794",
            "775b544862604133b6bb889a07a201a8",
            "2ee92f99fa094a51bfa3b041f7151302",
            "6ee8113ae52d4dd5a8d3abb9da26094a",
            "6013138b72324b9593cd472fbe5368ec",
            "888ecea1b2494eed904d09f1781ae67f",
            "4fa8802dca3840c0beb63f68e43e8b58",
            "8459b727435e42a1bbd6761b2a3edc37",
            "a8d7fe83cd1a454688b4998cccb3b07f",
            "6bd739a4d7314b1f8609504db962450a"
          ]
        }
      },
      "execution_count": 16,
      "outputs": [
        {
          "output_type": "display_data",
          "data": {
            "text/plain": [
              "Batches:   0%|          | 0/5144 [00:00<?, ?it/s]"
            ],
            "application/vnd.jupyter.widget-view+json": {
              "version_major": 2,
              "version_minor": 0,
              "model_id": "ef5b5e83c0434eabb92c2706fe4251cb"
            }
          },
          "metadata": {}
        }
      ]
    },
    {
      "cell_type": "code",
      "source": [
        "# Save\n",
        "with open('/content/gdrive/MyDrive/00_projects/project_2023_skills_NO/job_embeddings.pickle', 'wb') as pkl:\n",
        "    pickle.dump(jobs_embeddings, pkl)\n",
        "\n",
        "#with open('skill_embedding.pickle', 'rb') as pkl:\n",
        " #   doc_embedding = pickle.load(pkl)"
      ],
      "metadata": {
        "id": "cLjNnCcuQpUN"
      },
      "execution_count": 17,
      "outputs": []
    }
  ],
  "metadata": {
    "kernelspec": {
      "display_name": "Python 3",
      "language": "python",
      "name": "python3"
    },
    "language_info": {
      "codemirror_mode": {
        "name": "ipython",
        "version": 3
      },
      "file_extension": ".py",
      "mimetype": "text/x-python",
      "name": "python",
      "nbconvert_exporter": "python",
      "pygments_lexer": "ipython3",
      "version": "3.7.9"
    },
    "colab": {
      "provenance": [],
      "include_colab_link": true
    },
    "accelerator": "GPU",
    "gpuClass": "standard",
    "widgets": {
      "application/vnd.jupyter.widget-state+json": {
        "b1c5ed6a18c74464965694bb522356cf": {
          "model_module": "@jupyter-widgets/controls",
          "model_name": "HBoxModel",
          "model_module_version": "1.5.0",
          "state": {
            "_dom_classes": [],
            "_model_module": "@jupyter-widgets/controls",
            "_model_module_version": "1.5.0",
            "_model_name": "HBoxModel",
            "_view_count": null,
            "_view_module": "@jupyter-widgets/controls",
            "_view_module_version": "1.5.0",
            "_view_name": "HBoxView",
            "box_style": "",
            "children": [
              "IPY_MODEL_5df96829a079450684718dee2d43ac7c",
              "IPY_MODEL_67738895a91b4e09a7d6df475e1024c3",
              "IPY_MODEL_ac8f3e74782d44d29e56618d58f5e2d8"
            ],
            "layout": "IPY_MODEL_35fafe30806f474fb73b1f8924494da0"
          }
        },
        "5df96829a079450684718dee2d43ac7c": {
          "model_module": "@jupyter-widgets/controls",
          "model_name": "HTMLModel",
          "model_module_version": "1.5.0",
          "state": {
            "_dom_classes": [],
            "_model_module": "@jupyter-widgets/controls",
            "_model_module_version": "1.5.0",
            "_model_name": "HTMLModel",
            "_view_count": null,
            "_view_module": "@jupyter-widgets/controls",
            "_view_module_version": "1.5.0",
            "_view_name": "HTMLView",
            "description": "",
            "description_tooltip": null,
            "layout": "IPY_MODEL_23f0d22b4a5b4fa9b314f83757680a8e",
            "placeholder": "​",
            "style": "IPY_MODEL_acdc1c17b97a44919c45c7c9814901f0",
            "value": "Batches: 100%"
          }
        },
        "67738895a91b4e09a7d6df475e1024c3": {
          "model_module": "@jupyter-widgets/controls",
          "model_name": "FloatProgressModel",
          "model_module_version": "1.5.0",
          "state": {
            "_dom_classes": [],
            "_model_module": "@jupyter-widgets/controls",
            "_model_module_version": "1.5.0",
            "_model_name": "FloatProgressModel",
            "_view_count": null,
            "_view_module": "@jupyter-widgets/controls",
            "_view_module_version": "1.5.0",
            "_view_name": "ProgressView",
            "bar_style": "success",
            "description": "",
            "description_tooltip": null,
            "layout": "IPY_MODEL_19f14eeb264143e281241acbda5a1e04",
            "max": 435,
            "min": 0,
            "orientation": "horizontal",
            "style": "IPY_MODEL_9eccaabcab9048718c89783bb391220a",
            "value": 435
          }
        },
        "ac8f3e74782d44d29e56618d58f5e2d8": {
          "model_module": "@jupyter-widgets/controls",
          "model_name": "HTMLModel",
          "model_module_version": "1.5.0",
          "state": {
            "_dom_classes": [],
            "_model_module": "@jupyter-widgets/controls",
            "_model_module_version": "1.5.0",
            "_model_name": "HTMLModel",
            "_view_count": null,
            "_view_module": "@jupyter-widgets/controls",
            "_view_module_version": "1.5.0",
            "_view_name": "HTMLView",
            "description": "",
            "description_tooltip": null,
            "layout": "IPY_MODEL_00132f39beed4b0ab70096d822a4ea0d",
            "placeholder": "​",
            "style": "IPY_MODEL_42eb84476d9b436c9458816c7b79da5d",
            "value": " 435/435 [00:36&lt;00:00, 31.36it/s]"
          }
        },
        "35fafe30806f474fb73b1f8924494da0": {
          "model_module": "@jupyter-widgets/base",
          "model_name": "LayoutModel",
          "model_module_version": "1.2.0",
          "state": {
            "_model_module": "@jupyter-widgets/base",
            "_model_module_version": "1.2.0",
            "_model_name": "LayoutModel",
            "_view_count": null,
            "_view_module": "@jupyter-widgets/base",
            "_view_module_version": "1.2.0",
            "_view_name": "LayoutView",
            "align_content": null,
            "align_items": null,
            "align_self": null,
            "border": null,
            "bottom": null,
            "display": null,
            "flex": null,
            "flex_flow": null,
            "grid_area": null,
            "grid_auto_columns": null,
            "grid_auto_flow": null,
            "grid_auto_rows": null,
            "grid_column": null,
            "grid_gap": null,
            "grid_row": null,
            "grid_template_areas": null,
            "grid_template_columns": null,
            "grid_template_rows": null,
            "height": null,
            "justify_content": null,
            "justify_items": null,
            "left": null,
            "margin": null,
            "max_height": null,
            "max_width": null,
            "min_height": null,
            "min_width": null,
            "object_fit": null,
            "object_position": null,
            "order": null,
            "overflow": null,
            "overflow_x": null,
            "overflow_y": null,
            "padding": null,
            "right": null,
            "top": null,
            "visibility": null,
            "width": null
          }
        },
        "23f0d22b4a5b4fa9b314f83757680a8e": {
          "model_module": "@jupyter-widgets/base",
          "model_name": "LayoutModel",
          "model_module_version": "1.2.0",
          "state": {
            "_model_module": "@jupyter-widgets/base",
            "_model_module_version": "1.2.0",
            "_model_name": "LayoutModel",
            "_view_count": null,
            "_view_module": "@jupyter-widgets/base",
            "_view_module_version": "1.2.0",
            "_view_name": "LayoutView",
            "align_content": null,
            "align_items": null,
            "align_self": null,
            "border": null,
            "bottom": null,
            "display": null,
            "flex": null,
            "flex_flow": null,
            "grid_area": null,
            "grid_auto_columns": null,
            "grid_auto_flow": null,
            "grid_auto_rows": null,
            "grid_column": null,
            "grid_gap": null,
            "grid_row": null,
            "grid_template_areas": null,
            "grid_template_columns": null,
            "grid_template_rows": null,
            "height": null,
            "justify_content": null,
            "justify_items": null,
            "left": null,
            "margin": null,
            "max_height": null,
            "max_width": null,
            "min_height": null,
            "min_width": null,
            "object_fit": null,
            "object_position": null,
            "order": null,
            "overflow": null,
            "overflow_x": null,
            "overflow_y": null,
            "padding": null,
            "right": null,
            "top": null,
            "visibility": null,
            "width": null
          }
        },
        "acdc1c17b97a44919c45c7c9814901f0": {
          "model_module": "@jupyter-widgets/controls",
          "model_name": "DescriptionStyleModel",
          "model_module_version": "1.5.0",
          "state": {
            "_model_module": "@jupyter-widgets/controls",
            "_model_module_version": "1.5.0",
            "_model_name": "DescriptionStyleModel",
            "_view_count": null,
            "_view_module": "@jupyter-widgets/base",
            "_view_module_version": "1.2.0",
            "_view_name": "StyleView",
            "description_width": ""
          }
        },
        "19f14eeb264143e281241acbda5a1e04": {
          "model_module": "@jupyter-widgets/base",
          "model_name": "LayoutModel",
          "model_module_version": "1.2.0",
          "state": {
            "_model_module": "@jupyter-widgets/base",
            "_model_module_version": "1.2.0",
            "_model_name": "LayoutModel",
            "_view_count": null,
            "_view_module": "@jupyter-widgets/base",
            "_view_module_version": "1.2.0",
            "_view_name": "LayoutView",
            "align_content": null,
            "align_items": null,
            "align_self": null,
            "border": null,
            "bottom": null,
            "display": null,
            "flex": null,
            "flex_flow": null,
            "grid_area": null,
            "grid_auto_columns": null,
            "grid_auto_flow": null,
            "grid_auto_rows": null,
            "grid_column": null,
            "grid_gap": null,
            "grid_row": null,
            "grid_template_areas": null,
            "grid_template_columns": null,
            "grid_template_rows": null,
            "height": null,
            "justify_content": null,
            "justify_items": null,
            "left": null,
            "margin": null,
            "max_height": null,
            "max_width": null,
            "min_height": null,
            "min_width": null,
            "object_fit": null,
            "object_position": null,
            "order": null,
            "overflow": null,
            "overflow_x": null,
            "overflow_y": null,
            "padding": null,
            "right": null,
            "top": null,
            "visibility": null,
            "width": null
          }
        },
        "9eccaabcab9048718c89783bb391220a": {
          "model_module": "@jupyter-widgets/controls",
          "model_name": "ProgressStyleModel",
          "model_module_version": "1.5.0",
          "state": {
            "_model_module": "@jupyter-widgets/controls",
            "_model_module_version": "1.5.0",
            "_model_name": "ProgressStyleModel",
            "_view_count": null,
            "_view_module": "@jupyter-widgets/base",
            "_view_module_version": "1.2.0",
            "_view_name": "StyleView",
            "bar_color": null,
            "description_width": ""
          }
        },
        "00132f39beed4b0ab70096d822a4ea0d": {
          "model_module": "@jupyter-widgets/base",
          "model_name": "LayoutModel",
          "model_module_version": "1.2.0",
          "state": {
            "_model_module": "@jupyter-widgets/base",
            "_model_module_version": "1.2.0",
            "_model_name": "LayoutModel",
            "_view_count": null,
            "_view_module": "@jupyter-widgets/base",
            "_view_module_version": "1.2.0",
            "_view_name": "LayoutView",
            "align_content": null,
            "align_items": null,
            "align_self": null,
            "border": null,
            "bottom": null,
            "display": null,
            "flex": null,
            "flex_flow": null,
            "grid_area": null,
            "grid_auto_columns": null,
            "grid_auto_flow": null,
            "grid_auto_rows": null,
            "grid_column": null,
            "grid_gap": null,
            "grid_row": null,
            "grid_template_areas": null,
            "grid_template_columns": null,
            "grid_template_rows": null,
            "height": null,
            "justify_content": null,
            "justify_items": null,
            "left": null,
            "margin": null,
            "max_height": null,
            "max_width": null,
            "min_height": null,
            "min_width": null,
            "object_fit": null,
            "object_position": null,
            "order": null,
            "overflow": null,
            "overflow_x": null,
            "overflow_y": null,
            "padding": null,
            "right": null,
            "top": null,
            "visibility": null,
            "width": null
          }
        },
        "42eb84476d9b436c9458816c7b79da5d": {
          "model_module": "@jupyter-widgets/controls",
          "model_name": "DescriptionStyleModel",
          "model_module_version": "1.5.0",
          "state": {
            "_model_module": "@jupyter-widgets/controls",
            "_model_module_version": "1.5.0",
            "_model_name": "DescriptionStyleModel",
            "_view_count": null,
            "_view_module": "@jupyter-widgets/base",
            "_view_module_version": "1.2.0",
            "_view_name": "StyleView",
            "description_width": ""
          }
        },
        "ef5b5e83c0434eabb92c2706fe4251cb": {
          "model_module": "@jupyter-widgets/controls",
          "model_name": "HBoxModel",
          "model_module_version": "1.5.0",
          "state": {
            "_dom_classes": [],
            "_model_module": "@jupyter-widgets/controls",
            "_model_module_version": "1.5.0",
            "_model_name": "HBoxModel",
            "_view_count": null,
            "_view_module": "@jupyter-widgets/controls",
            "_view_module_version": "1.5.0",
            "_view_name": "HBoxView",
            "box_style": "",
            "children": [
              "IPY_MODEL_e149a5964546425c8aa760a267576794",
              "IPY_MODEL_775b544862604133b6bb889a07a201a8",
              "IPY_MODEL_2ee92f99fa094a51bfa3b041f7151302"
            ],
            "layout": "IPY_MODEL_6ee8113ae52d4dd5a8d3abb9da26094a"
          }
        },
        "e149a5964546425c8aa760a267576794": {
          "model_module": "@jupyter-widgets/controls",
          "model_name": "HTMLModel",
          "model_module_version": "1.5.0",
          "state": {
            "_dom_classes": [],
            "_model_module": "@jupyter-widgets/controls",
            "_model_module_version": "1.5.0",
            "_model_name": "HTMLModel",
            "_view_count": null,
            "_view_module": "@jupyter-widgets/controls",
            "_view_module_version": "1.5.0",
            "_view_name": "HTMLView",
            "description": "",
            "description_tooltip": null,
            "layout": "IPY_MODEL_6013138b72324b9593cd472fbe5368ec",
            "placeholder": "​",
            "style": "IPY_MODEL_888ecea1b2494eed904d09f1781ae67f",
            "value": "Batches: 100%"
          }
        },
        "775b544862604133b6bb889a07a201a8": {
          "model_module": "@jupyter-widgets/controls",
          "model_name": "FloatProgressModel",
          "model_module_version": "1.5.0",
          "state": {
            "_dom_classes": [],
            "_model_module": "@jupyter-widgets/controls",
            "_model_module_version": "1.5.0",
            "_model_name": "FloatProgressModel",
            "_view_count": null,
            "_view_module": "@jupyter-widgets/controls",
            "_view_module_version": "1.5.0",
            "_view_name": "ProgressView",
            "bar_style": "success",
            "description": "",
            "description_tooltip": null,
            "layout": "IPY_MODEL_4fa8802dca3840c0beb63f68e43e8b58",
            "max": 5144,
            "min": 0,
            "orientation": "horizontal",
            "style": "IPY_MODEL_8459b727435e42a1bbd6761b2a3edc37",
            "value": 5144
          }
        },
        "2ee92f99fa094a51bfa3b041f7151302": {
          "model_module": "@jupyter-widgets/controls",
          "model_name": "HTMLModel",
          "model_module_version": "1.5.0",
          "state": {
            "_dom_classes": [],
            "_model_module": "@jupyter-widgets/controls",
            "_model_module_version": "1.5.0",
            "_model_name": "HTMLModel",
            "_view_count": null,
            "_view_module": "@jupyter-widgets/controls",
            "_view_module_version": "1.5.0",
            "_view_name": "HTMLView",
            "description": "",
            "description_tooltip": null,
            "layout": "IPY_MODEL_a8d7fe83cd1a454688b4998cccb3b07f",
            "placeholder": "​",
            "style": "IPY_MODEL_6bd739a4d7314b1f8609504db962450a",
            "value": " 5144/5144 [03:57&lt;00:00, 46.64it/s]"
          }
        },
        "6ee8113ae52d4dd5a8d3abb9da26094a": {
          "model_module": "@jupyter-widgets/base",
          "model_name": "LayoutModel",
          "model_module_version": "1.2.0",
          "state": {
            "_model_module": "@jupyter-widgets/base",
            "_model_module_version": "1.2.0",
            "_model_name": "LayoutModel",
            "_view_count": null,
            "_view_module": "@jupyter-widgets/base",
            "_view_module_version": "1.2.0",
            "_view_name": "LayoutView",
            "align_content": null,
            "align_items": null,
            "align_self": null,
            "border": null,
            "bottom": null,
            "display": null,
            "flex": null,
            "flex_flow": null,
            "grid_area": null,
            "grid_auto_columns": null,
            "grid_auto_flow": null,
            "grid_auto_rows": null,
            "grid_column": null,
            "grid_gap": null,
            "grid_row": null,
            "grid_template_areas": null,
            "grid_template_columns": null,
            "grid_template_rows": null,
            "height": null,
            "justify_content": null,
            "justify_items": null,
            "left": null,
            "margin": null,
            "max_height": null,
            "max_width": null,
            "min_height": null,
            "min_width": null,
            "object_fit": null,
            "object_position": null,
            "order": null,
            "overflow": null,
            "overflow_x": null,
            "overflow_y": null,
            "padding": null,
            "right": null,
            "top": null,
            "visibility": null,
            "width": null
          }
        },
        "6013138b72324b9593cd472fbe5368ec": {
          "model_module": "@jupyter-widgets/base",
          "model_name": "LayoutModel",
          "model_module_version": "1.2.0",
          "state": {
            "_model_module": "@jupyter-widgets/base",
            "_model_module_version": "1.2.0",
            "_model_name": "LayoutModel",
            "_view_count": null,
            "_view_module": "@jupyter-widgets/base",
            "_view_module_version": "1.2.0",
            "_view_name": "LayoutView",
            "align_content": null,
            "align_items": null,
            "align_self": null,
            "border": null,
            "bottom": null,
            "display": null,
            "flex": null,
            "flex_flow": null,
            "grid_area": null,
            "grid_auto_columns": null,
            "grid_auto_flow": null,
            "grid_auto_rows": null,
            "grid_column": null,
            "grid_gap": null,
            "grid_row": null,
            "grid_template_areas": null,
            "grid_template_columns": null,
            "grid_template_rows": null,
            "height": null,
            "justify_content": null,
            "justify_items": null,
            "left": null,
            "margin": null,
            "max_height": null,
            "max_width": null,
            "min_height": null,
            "min_width": null,
            "object_fit": null,
            "object_position": null,
            "order": null,
            "overflow": null,
            "overflow_x": null,
            "overflow_y": null,
            "padding": null,
            "right": null,
            "top": null,
            "visibility": null,
            "width": null
          }
        },
        "888ecea1b2494eed904d09f1781ae67f": {
          "model_module": "@jupyter-widgets/controls",
          "model_name": "DescriptionStyleModel",
          "model_module_version": "1.5.0",
          "state": {
            "_model_module": "@jupyter-widgets/controls",
            "_model_module_version": "1.5.0",
            "_model_name": "DescriptionStyleModel",
            "_view_count": null,
            "_view_module": "@jupyter-widgets/base",
            "_view_module_version": "1.2.0",
            "_view_name": "StyleView",
            "description_width": ""
          }
        },
        "4fa8802dca3840c0beb63f68e43e8b58": {
          "model_module": "@jupyter-widgets/base",
          "model_name": "LayoutModel",
          "model_module_version": "1.2.0",
          "state": {
            "_model_module": "@jupyter-widgets/base",
            "_model_module_version": "1.2.0",
            "_model_name": "LayoutModel",
            "_view_count": null,
            "_view_module": "@jupyter-widgets/base",
            "_view_module_version": "1.2.0",
            "_view_name": "LayoutView",
            "align_content": null,
            "align_items": null,
            "align_self": null,
            "border": null,
            "bottom": null,
            "display": null,
            "flex": null,
            "flex_flow": null,
            "grid_area": null,
            "grid_auto_columns": null,
            "grid_auto_flow": null,
            "grid_auto_rows": null,
            "grid_column": null,
            "grid_gap": null,
            "grid_row": null,
            "grid_template_areas": null,
            "grid_template_columns": null,
            "grid_template_rows": null,
            "height": null,
            "justify_content": null,
            "justify_items": null,
            "left": null,
            "margin": null,
            "max_height": null,
            "max_width": null,
            "min_height": null,
            "min_width": null,
            "object_fit": null,
            "object_position": null,
            "order": null,
            "overflow": null,
            "overflow_x": null,
            "overflow_y": null,
            "padding": null,
            "right": null,
            "top": null,
            "visibility": null,
            "width": null
          }
        },
        "8459b727435e42a1bbd6761b2a3edc37": {
          "model_module": "@jupyter-widgets/controls",
          "model_name": "ProgressStyleModel",
          "model_module_version": "1.5.0",
          "state": {
            "_model_module": "@jupyter-widgets/controls",
            "_model_module_version": "1.5.0",
            "_model_name": "ProgressStyleModel",
            "_view_count": null,
            "_view_module": "@jupyter-widgets/base",
            "_view_module_version": "1.2.0",
            "_view_name": "StyleView",
            "bar_color": null,
            "description_width": ""
          }
        },
        "a8d7fe83cd1a454688b4998cccb3b07f": {
          "model_module": "@jupyter-widgets/base",
          "model_name": "LayoutModel",
          "model_module_version": "1.2.0",
          "state": {
            "_model_module": "@jupyter-widgets/base",
            "_model_module_version": "1.2.0",
            "_model_name": "LayoutModel",
            "_view_count": null,
            "_view_module": "@jupyter-widgets/base",
            "_view_module_version": "1.2.0",
            "_view_name": "LayoutView",
            "align_content": null,
            "align_items": null,
            "align_self": null,
            "border": null,
            "bottom": null,
            "display": null,
            "flex": null,
            "flex_flow": null,
            "grid_area": null,
            "grid_auto_columns": null,
            "grid_auto_flow": null,
            "grid_auto_rows": null,
            "grid_column": null,
            "grid_gap": null,
            "grid_row": null,
            "grid_template_areas": null,
            "grid_template_columns": null,
            "grid_template_rows": null,
            "height": null,
            "justify_content": null,
            "justify_items": null,
            "left": null,
            "margin": null,
            "max_height": null,
            "max_width": null,
            "min_height": null,
            "min_width": null,
            "object_fit": null,
            "object_position": null,
            "order": null,
            "overflow": null,
            "overflow_x": null,
            "overflow_y": null,
            "padding": null,
            "right": null,
            "top": null,
            "visibility": null,
            "width": null
          }
        },
        "6bd739a4d7314b1f8609504db962450a": {
          "model_module": "@jupyter-widgets/controls",
          "model_name": "DescriptionStyleModel",
          "model_module_version": "1.5.0",
          "state": {
            "_model_module": "@jupyter-widgets/controls",
            "_model_module_version": "1.5.0",
            "_model_name": "DescriptionStyleModel",
            "_view_count": null,
            "_view_module": "@jupyter-widgets/base",
            "_view_module_version": "1.2.0",
            "_view_name": "StyleView",
            "description_width": ""
          }
        }
      }
    }
  },
  "nbformat": 4,
  "nbformat_minor": 0
}