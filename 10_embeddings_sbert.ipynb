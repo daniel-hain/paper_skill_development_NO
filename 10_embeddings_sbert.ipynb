{
  "cells": [
    {
      "cell_type": "markdown",
      "metadata": {
        "id": "view-in-github",
        "colab_type": "text"
      },
      "source": [
        "<a href=\"https://colab.research.google.com/github/daniel-hain/paper_skill_development_NO/blob/main/10_embeddings_sbert.ipynb\" target=\"_parent\"><img src=\"https://colab.research.google.com/assets/colab-badge.svg\" alt=\"Open In Colab\"/></a>"
      ]
    },
    {
      "cell_type": "markdown",
      "metadata": {
        "id": "pJ8uDjyr4MeG"
      },
      "source": [
        "Installing dependencies needed for this notebook"
      ]
    },
    {
      "cell_type": "code",
      "source": [
        "!apt install libomp-dev\n",
        "!python -m pip install --upgrade faiss faiss-gpu\n",
        "import faiss"
      ],
      "metadata": {
        "id": "fCMEPmhe5a0B"
      },
      "execution_count": null,
      "outputs": []
    },
    {
      "cell_type": "code",
      "execution_count": null,
      "metadata": {
        "id": "TqBZ8Acl4MeG"
      },
      "outputs": [],
      "source": [
        "!pip install -qU transformers sentence-transformers"
      ]
    },
    {
      "cell_type": "code",
      "execution_count": null,
      "metadata": {
        "id": "1lxrOoae4MeH"
      },
      "outputs": [],
      "source": [
        "from transformers import AutoTokenizer, AutoModel\n",
        "import torch"
      ]
    },
    {
      "cell_type": "markdown",
      "metadata": {
        "id": "Ctm18lCx4MeO"
      },
      "source": [
        "---\n",
        "\n",
        "## Using sentence-transformers\n",
        "\n",
        "The `sentence-transformers` library allows us to compress all of the above into just a few lines of code."
      ]
    },
    {
      "cell_type": "code",
      "execution_count": null,
      "metadata": {
        "id": "waBNwmGy4MeP"
      },
      "outputs": [],
      "source": [
        "from sentence_transformers import SentenceTransformer\n",
        "\n",
        "model = SentenceTransformer('xxxxx')"
      ]
    },
    {
      "cell_type": "markdown",
      "metadata": {
        "id": "Ynmvy87Q4MeP"
      },
      "source": [
        "We encode the sentences (producing our mean-pooled sentence embeddings) like so:"
      ]
    },
    {
      "cell_type": "code",
      "execution_count": null,
      "metadata": {
        "id": "DUljqG_X4MeP"
      },
      "outputs": [],
      "source": [
        "sentence_embeddings = model.encode([a, b, c, d, e, f, g])"
      ]
    },
    {
      "cell_type": "markdown",
      "metadata": {
        "id": "ytT6u1cQ4MeP"
      },
      "source": [
        "And calculate the cosine similarity just like before."
      ]
    },
    {
      "cell_type": "code",
      "execution_count": null,
      "metadata": {
        "id": "11JdXCk-4MeP"
      },
      "outputs": [],
      "source": [
        "from sklearn.metrics.pairwise import cosine_similarity\n",
        "import numpy as np\n",
        "\n",
        "# calculate similarities (will store in array)\n",
        "scores = np.zeros((sentence_embeddings.shape[0], sentence_embeddings.shape[0]))\n",
        "for i in range(sentence_embeddings.shape[0]):\n",
        "    scores[i, :] = cosine_similarity(\n",
        "        [sentence_embeddings[i]],\n",
        "        sentence_embeddings\n",
        "    )[0]"
      ]
    },
    {
      "cell_type": "code",
      "execution_count": null,
      "metadata": {
        "id": "PPZmSx_H4MeQ",
        "outputId": "c1c3b82e-648f-4c27-c2d5-d5d0be856435"
      },
      "outputs": [
        {
          "data": {
            "text/plain": [
              "array([[ 1.        ,  0.18692753,  0.28297687,  0.29628229,  0.27451015,\n",
              "         0.1017626 ,  0.21696255],\n",
              "       [ 0.18692753,  0.99999988,  0.72058773,  0.5142895 ,  0.11749639,\n",
              "         0.19306931,  0.66182363],\n",
              "       [ 0.28297687,  0.72058773,  1.00000024,  0.48864418,  0.2356894 ,\n",
              "         0.17157122,  0.55993092],\n",
              "       [ 0.29628229,  0.5142895 ,  0.48864418,  0.99999976,  0.26985493,\n",
              "         0.3788943 ,  0.52388811],\n",
              "       [ 0.27451015,  0.11749639,  0.2356894 ,  0.26985493,  0.99999982,\n",
              "         0.23422126, -0.01599786],\n",
              "       [ 0.1017626 ,  0.19306931,  0.17157122,  0.3788943 ,  0.23422126,\n",
              "         1.00000012,  0.22319666],\n",
              "       [ 0.21696255,  0.66182363,  0.55993092,  0.52388811, -0.01599786,\n",
              "         0.22319666,  1.        ]])"
            ]
          },
          "execution_count": 5,
          "metadata": {},
          "output_type": "execute_result"
        }
      ],
      "source": [
        "scores"
      ]
    }
  ],
  "metadata": {
    "kernelspec": {
      "display_name": "Python 3",
      "language": "python",
      "name": "python3"
    },
    "language_info": {
      "codemirror_mode": {
        "name": "ipython",
        "version": 3
      },
      "file_extension": ".py",
      "mimetype": "text/x-python",
      "name": "python",
      "nbconvert_exporter": "python",
      "pygments_lexer": "ipython3",
      "version": "3.7.9"
    },
    "colab": {
      "provenance": [],
      "include_colab_link": true
    }
  },
  "nbformat": 4,
  "nbformat_minor": 0
}